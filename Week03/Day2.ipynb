{
 "cells": [
  {
   "cell_type": "code",
   "execution_count": 1,
   "metadata": {},
   "outputs": [],
   "source": [
    "# https://blog.csdn.net/cat_bayi/article/details/128725230"
   ]
  },
  {
   "cell_type": "code",
   "execution_count": null,
   "metadata": {},
   "outputs": [],
   "source": [
    "# 创建虚拟环境后一定注意是否进行了切换\n",
    "# 建议用 cmd 替换 powershell\n",
    "# 能更清晰地看到当前的虚拟环境"
   ]
  },
  {
   "cell_type": "code",
   "execution_count": null,
   "metadata": {
    "vscode": {
     "languageId": "powershell"
    }
   },
   "outputs": [],
   "source": [
    "# 当你从一个磁盘路径切换到另一个磁盘路径时，除了使用 cd 命令指定目录路径，还需要切换磁盘驱动器\n",
    "\n",
    "# 例如启动流程\n",
    "activate d2l\n",
    "D:\n",
    "cd D:\\Program\\d2l\\pytorch\n",
    "jupyter notebook"
   ]
  },
  {
   "cell_type": "code",
   "execution_count": null,
   "metadata": {},
   "outputs": [],
   "source": [
    "# 注意merge代表取交集，不是覆盖\n",
    "# 记得先fetch from all remotes"
   ]
  },
  {
   "cell_type": "code",
   "execution_count": null,
   "metadata": {},
   "outputs": [],
   "source": [
    "# linux中路径若有书名号或空格会自动加引号"
   ]
  },
  {
   "cell_type": "code",
   "execution_count": null,
   "metadata": {},
   "outputs": [],
   "source": [
    "# 网页F12打开开发者模式\n",
    "# 控制台\n",
    "# 网络（响应、负载）"
   ]
  },
  {
   "cell_type": "code",
   "execution_count": null,
   "metadata": {},
   "outputs": [],
   "source": [
    "# Qdrant搜索\n",
    "# metadata.title:《安全生产许可证条例》"
   ]
  },
  {
   "cell_type": "code",
   "execution_count": null,
   "metadata": {},
   "outputs": [],
   "source": [
    "# 通过进程号查询是谁在运行\n",
    "# ps aux |grep npm\n",
    "# ps aux |grep 48371\n",
    "\n",
    "# 通过端口号查询\n",
    "# lsof -i :5175\n",
    "# lsof -i :8989\n",
    "\n",
    "# 删除进程\n",
    "# kill -9 48371\n",
    "\n",
    "# 后台运行\n",
    "# 前端（后被证明不能用 nohup）\n",
    "# 启动前先build\n",
    "# npm run build\n",
    "# nohup npm run preview > frontend.log 2>&1 &\n",
    "\n",
    "# 后端\n",
    "# nohup poetry run python run.py > backend.log 2>&1 &"
   ]
  },
  {
   "cell_type": "code",
   "execution_count": null,
   "metadata": {},
   "outputs": [],
   "source": [
    "# npm 相当于 conda 环境\n",
    "# nginx 是反向代理服务器\n",
    "# 需要使用 nginx 来挂起前端"
   ]
  },
  {
   "cell_type": "code",
   "execution_count": null,
   "metadata": {},
   "outputs": [],
   "source": [
    "# cursor 注释字体显示优化\n",
    "{\n",
    "    \"explorer.confirmDragAndDrop\": false,\n",
    "    \"explorer.confirmDelete\": false,\n",
    "    \"remote.SSH.remotePlatform\": {\n",
    "        \"10.10.61.197\": \"linux\"\n",
    "    },\n",
    "    \"git.enableSmartCommit\": true,\n",
    "    \"git.confirmSync\": false,\n",
    "    \"window.openFilesInNewWindow\": \"on\",\n",
    "    \"workbench.editor.enablePreview\": false,\n",
    "    \"workbench.activityBar.orientation\": \"vertical\",\n",
    "    \"git.autofetch\": true,\n",
    "    \"extensions.ignoreRecommendations\": true,\n",
    "    \"editor.fontVariations\": false,\n",
    "    \"editor.tokenColorCustomizations\": {\n",
    "        \"comments\": \"#26aca6\",\n",
    "        \"textMateRules\": [\n",
    "            {\n",
    "                \"name\": \"Comment\",\n",
    "                \"scope\": [\n",
    "                    \"comment\",\n",
    "                    \"comment.block\",\n",
    "                    \"comment.block.documentation\",\n",
    "                    \"comment.line\",\n",
    "                    \"comment.line.double-slash\",\n",
    "                    \"punctuation.definition.comment\"\n",
    "                ],\n",
    "                \"settings\": {\n",
    "                    \"fontStyle\": \"\"\n",
    "                }\n",
    "            }\n",
    "        ]\n",
    "    },\n",
    "    \"editor.fontLigatures\": false\n",
    "}"
   ]
  }
 ],
 "metadata": {
  "kernelspec": {
   "display_name": "test",
   "language": "python",
   "name": "python3"
  },
  "language_info": {
   "codemirror_mode": {
    "name": "ipython",
    "version": 3
   },
   "file_extension": ".py",
   "mimetype": "text/x-python",
   "name": "python",
   "nbconvert_exporter": "python",
   "pygments_lexer": "ipython3",
   "version": "3.12.7"
  }
 },
 "nbformat": 4,
 "nbformat_minor": 2
}
