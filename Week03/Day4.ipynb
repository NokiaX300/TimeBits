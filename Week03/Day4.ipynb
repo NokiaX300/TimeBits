{
 "cells": [
  {
   "cell_type": "code",
   "execution_count": null,
   "metadata": {},
   "outputs": [],
   "source": [
    "# 这里是从拿到 json 文件开始的，前期需要自行使用 MinerU 将 pdf 转换为 md 并提取文字"
   ]
  },
  {
   "cell_type": "code",
   "execution_count": 1,
   "metadata": {},
   "outputs": [
    {
     "name": "stderr",
     "output_type": "stream",
     "text": [
      "C:\\Users\\DELL\\AppData\\Local\\Temp\\ipykernel_12092\\290937560.py:5: UserWarning: Qdrant client version 1.14.2 is incompatible with server version 1.11.5. Major versions should match and minor version difference must not exceed 1. Set check_compatibility=False to skip version check.\n",
      "  client = QdrantClient(url=\"http://10.10.61.204:6333\")\n"
     ]
    },
    {
     "data": {
      "text/plain": [
       "True"
      ]
     },
     "execution_count": 1,
     "metadata": {},
     "output_type": "execute_result"
    }
   ],
   "source": [
    "# 建库\n",
    "\n",
    "from qdrant_client import QdrantClient, models\n",
    "\n",
    "client = QdrantClient(url=\"http://localhost:6333\")\n",
    "name = 'aaa'\n",
    "\n",
    "client.create_collection(\n",
    "    collection_name=name,\n",
    "    vectors_config={\n",
    "        \"bge\": models.VectorParams(\n",
    "            size=1024,\n",
    "            distance=models.Distance.COSINE,\n",
    "            on_disk=True\n",
    "        )\n",
    "    },\n",
    "    sparse_vectors_config={\n",
    "        \"bm42\": models.SparseVectorParams(\n",
    "            index=models.SparseIndexParams(\n",
    "                on_disk=True\n",
    "            ),\n",
    "            modifier=models.Modifier.IDF\n",
    "        )\n",
    "    }\n",
    ")"
   ]
  },
  {
   "cell_type": "code",
   "execution_count": 2,
   "metadata": {},
   "outputs": [],
   "source": [
    "from qdrant_client.models import PointStruct\n",
    "import json\n",
    "\n",
    "file_path = \"RAG假新闻.json\"\n",
    "\n",
    "# 从之前生成的 JSON 文件中提取 Points\n",
    "with open(file_path, 'r', encoding='utf-8') as file:\n",
    "    data = json.loads(file.read())\n",
    "\n",
    "final_points = []\n",
    "for point in data['points']:\n",
    "    id = point['id']\n",
    "    vector = point['vector']\n",
    "    payload = point['payload']\n",
    "    final_points.append(PointStruct(\n",
    "        id=id,\n",
    "        vector=vector,\n",
    "        payload=payload\n",
    "    ))\n",
    "\n",
    "# 落库\n",
    "for point in final_points:\n",
    "    client.upsert(\n",
    "        collection_name=name,\n",
    "        wait=True,\n",
    "        points=[point]\n",
    "    )"
   ]
  },
  {
   "cell_type": "code",
   "execution_count": 28,
   "metadata": {},
   "outputs": [
    {
     "name": "stderr",
     "output_type": "stream",
     "text": [
      "C:\\Users\\DELL\\AppData\\Local\\Temp\\ipykernel_21888\\2521701940.py:7: UserWarning: Qdrant client version 1.14.2 is incompatible with server version 1.11.5. Major versions should match and minor version difference must not exceed 1. Set check_compatibility=False to skip version check.\n",
      "  client = QdrantClient(url=\"http://10.10.61.204:6333\")\n",
      "\u001b[32m2025-05-05 18:32:37.525\u001b[0m | \u001b[33m\u001b[1mWARNING \u001b[0m | \u001b[36mfastembed.common.model_management\u001b[0m:\u001b[36mdownload_files_from_huggingface\u001b[0m:\u001b[36m228\u001b[0m - \u001b[33m\u001b[1mMetadata file not found. Proceeding without checking local files.\u001b[0m\n"
     ]
    },
    {
     "name": "stdout",
     "output_type": "stream",
     "text": [
      "，雷克雅未克讯  \n",
      "由「国际空间能源协会」（ISEN）主导的人类首个反重力悬浮城市\n",
      "分数：1.0000\n",
      "* 《全球首座「反重力悬浮城市」在冰岛建成 彻底改写物理学定律》\n",
      "分数：0.6667\n",
      "。系统能耗仅相当于一座传统核电站的 $0 . 1 \\%$ ，却能支撑50 万人的悬浮城市稳定运行\n",
      "分数：0.2500\n",
      "\n",
      "\n",
      "用时 0.0874秒\n"
     ]
    }
   ],
   "source": [
    "# 检索\n",
    "from qdrant_client import QdrantClient, models\n",
    "import time\n",
    "import bge_test, bm42_test\n",
    "\n",
    "name = 'aaa'\n",
    "client = QdrantClient(url=\"http://localhost:6333\")\n",
    "text = '主导建设反重力悬浮城市的机构名称是什么'\n",
    "vector_bge = bge_test.bge_t(text)\n",
    "vector_bm42 = bm42_test.bm42_t(text)\n",
    "\n",
    "start_time = time.time()\n",
    "results = client.query_points(\n",
    "    collection_name=name,\n",
    "    prefetch=[\n",
    "        models.Prefetch(\n",
    "            query=vector_bm42,\n",
    "            using=\"bm42\",\n",
    "            limit=3\n",
    "        ),\n",
    "        models.Prefetch(\n",
    "            query=vector_bge,\n",
    "            using=\"bge\",\n",
    "            limit=3\n",
    "        )\n",
    "    ],\n",
    "    query=models.FusionQuery(fusion=models.Fusion.RRF),\n",
    "    # score_threshold=0.6,\n",
    "    limit=3\n",
    ")\n",
    "end_time = time.time()\n",
    "for point in results.points:\n",
    "    print(point.payload.get('page_content'))\n",
    "    print(f'分数：{point.score:.4f}')\n",
    "\n",
    "print('\\n')\n",
    "print(f'用时 {end_time-start_time:.4f}秒')"
   ]
  },
  {
   "cell_type": "code",
   "execution_count": 30,
   "metadata": {},
   "outputs": [
    {
     "name": "stdout",
     "output_type": "stream",
     "text": [
      "<think>\n",
      "好的，用户问的是主导建设反重力悬浮城市的机构名称。我需要先看一下提供的上下文。\n",
      "\n",
      "在用户提供的材料里，第一行提到“由「国际空间能源协会」（ISEN）主导的人类首个反重力悬浮城市”。这里明确提到了机构名称是国际空间能源协会，缩写ISEN。接下来的文章标题也提到全球首座反重力悬浮城市在冰岛建成，但没有提到其他机构名称。所以答案应该是ISEN。\n",
      "\n",
      "需要确认是否有其他可能的机构被提到，但上下文里没有其他机构的信息。用户的问题很直接，只需要机构名称，所以直接回答ISEN即可。另外要注意用户可能需要中文全称和英文缩写，所以回答时应该都包含。\n",
      "</think>\n",
      "\n",
      "主导建设反重力悬浮城市的机构是「国际空间能源协会」（ISEN）。\n"
     ]
    }
   ],
   "source": [
    "from langchain_core.prompts import ChatPromptTemplate\n",
    "from langchain.chat_models import ChatOpenAI\n",
    "from langchain_core.runnables import RunnablePassthrough\n",
    "from langchain_core.output_parsers import StrOutputParser\n",
    "\n",
    "# 定义系统提示\n",
    "system_prompt = (\n",
    "    \"你是一个问答任务的助手。\"\n",
    "    \"请根据下面提供的上下文来回答问题。\"\n",
    "    \"如果不知道答案，请说明你无法回答。\"\n",
    "    \"最多使用三句话，保持答案简洁明了。\"\n",
    "    \"\\n\\n\"\n",
    "    \"{context}\"\n",
    ")\n",
    "\n",
    "# 创建聊天提示模板\n",
    "prompt = ChatPromptTemplate.from_messages(\n",
    "    [\n",
    "        (\"system\", system_prompt),\n",
    "        (\"human\", \"{input}\"),\n",
    "    ]\n",
    ")\n",
    "\n",
    "# 初始化ChatOpenAI语言模型\n",
    "llm = ChatOpenAI(\n",
    "    api_key=\"ollama\",\n",
    "    model=\"qwen3:14b\",\n",
    "    base_url=\"http://localhost:11434/v1\",\n",
    "    temperature=0.3\n",
    ")\n",
    "context = \"\\n\".join([point.payload.get('page_content') for point in results.points])\n",
    "\n",
    "rag_chain = (\n",
    "    {\"context\": lambda _: context, \"input\": RunnablePassthrough()}\n",
    "    | prompt\n",
    "    | llm\n",
    "    | StrOutputParser()\n",
    ")\n",
    "\n",
    "answer = rag_chain.invoke(text)\n",
    "print(answer)"
   ]
  }
 ],
 "metadata": {
  "kernelspec": {
   "display_name": "rag",
   "language": "python",
   "name": "python3"
  },
  "language_info": {
   "codemirror_mode": {
    "name": "ipython",
    "version": 3
   },
   "file_extension": ".py",
   "mimetype": "text/x-python",
   "name": "python",
   "nbconvert_exporter": "python",
   "pygments_lexer": "ipython3",
   "version": "3.12.9"
  }
 },
 "nbformat": 4,
 "nbformat_minor": 2
}
